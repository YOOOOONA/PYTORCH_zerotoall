{
  "nbformat": 4,
  "nbformat_minor": 0,
  "metadata": {
    "colab": {
      "name": "lab-05-1-logistic_regression.ipynb",
      "version": "0.3.2",
      "provenance": [],
      "include_colab_link": true
    },
    "kernelspec": {
      "name": "python3",
      "display_name": "Python 3"
    }
  },
  "cells": [
    {
      "cell_type": "markdown",
      "metadata": {
        "id": "view-in-github",
        "colab_type": "text"
      },
      "source": [
        "<a href=\"https://colab.research.google.com/github/YOOOOONA/PYTORCH_zerotoall/blob/master/lab_05_1_logistic_regression.ipynb\" target=\"_parent\"><img src=\"https://colab.research.google.com/assets/colab-badge.svg\" alt=\"Open In Colab\"/></a>"
      ]
    },
    {
      "metadata": {
        "id": "JK2h_oJpyXuz",
        "colab_type": "code",
        "colab": {
          "base_uri": "https://localhost:8080/",
          "height": 1231
        },
        "outputId": "920e8398-66f4-4c68-adfe-21f9f22c1b98"
      },
      "cell_type": "code",
      "source": [
        "# Lab 5 Logistic Regression Classifier\n",
        "import torch\n",
        "from torch.autograd import Variable\n",
        "import numpy as np\n",
        "\n",
        "torch.manual_seed(777)\n",
        "\n",
        "x_data = np.array([[1, 2], [2, 3], [3, 1], [4, 3], [5, 3], [6, 2]], dtype=np.float32)\n",
        "y_data = np.array([[0], [0], [0], [1], [1], [1]], dtype=np.float32)\n",
        "\n",
        "X = Variable(torch.from_numpy(x_data))\n",
        "Y = Variable(torch.from_numpy(y_data))\n",
        "\n",
        "# Hypothesis using sigmoid: tf.div(1., 1. + tf.exp(tf.matmul(X, W)))\n",
        "linear = torch.nn.Linear(2, 1, bias=True)\n",
        "sigmoid = torch.nn.Sigmoid()\n",
        "model = torch.nn.Sequential(linear, sigmoid)\n",
        "\n",
        "optimizer = torch.optim.SGD(model.parameters(), lr=0.01)\n",
        "\n",
        "for step in range(10001):\n",
        "    optimizer.zero_grad()\n",
        "    hypothesis = model(X)\n",
        "    # cost/loss function\n",
        "    cost = -(Y * torch.log(hypothesis) + (1 - Y)\n",
        "             * torch.log(1 - hypothesis)).mean()\n",
        "    cost.backward()\n",
        "    optimizer.step()\n",
        "\n",
        "    if step % 200 == 0:\n",
        "        print(step, cost.data.numpy())\n",
        "\n",
        "# Accuracy computation\n",
        "predicted = (model(X).data > 0.5).float()\n",
        "accuracy = (predicted == Y.data).float().mean()\n",
        "print(\"\\nHypothesis: \", hypothesis.data.numpy(), \"\\nCorrect (Y): \", predicted.numpy(), \"\\nAccuracy: \", accuracy)"
      ],
      "execution_count": 10,
      "outputs": [
        {
          "output_type": "stream",
          "text": [
            "0 1.7122961\n",
            "200 0.5587416\n",
            "400 0.48905894\n",
            "600 0.4521635\n",
            "800 0.4279951\n",
            "1000 0.4095371\n",
            "1200 0.39402437\n",
            "1400 0.3802476\n",
            "1600 0.3676313\n",
            "1800 0.3558805\n",
            "2000 0.3448322\n",
            "2200 0.3343892\n",
            "2400 0.32448757\n",
            "2600 0.31508172\n",
            "2800 0.30613574\n",
            "3000 0.29761967\n",
            "3200 0.28950712\n",
            "3400 0.28177422\n",
            "3600 0.27439907\n",
            "3800 0.26736107\n",
            "4000 0.26064113\n",
            "4200 0.25422105\n",
            "4400 0.24808389\n",
            "4600 0.24221383\n",
            "4800 0.23659587\n",
            "5000 0.23121583\n",
            "5200 0.22606055\n",
            "5400 0.22111769\n",
            "5600 0.21637554\n",
            "5800 0.21182323\n",
            "6000 0.20745055\n",
            "6200 0.20324796\n",
            "6400 0.19920635\n",
            "6600 0.19531743\n",
            "6800 0.1915731\n",
            "7000 0.18796611\n",
            "7200 0.18448943\n",
            "7400 0.18113655\n",
            "7600 0.17790128\n",
            "7800 0.17477785\n",
            "8000 0.1717609\n",
            "8200 0.16884524\n",
            "8400 0.16602616\n",
            "8600 0.16329904\n",
            "8800 0.16065969\n",
            "9000 0.15810406\n",
            "9200 0.15562837\n",
            "9400 0.1532291\n",
            "9600 0.15090273\n",
            "9800 0.14864624\n",
            "10000 0.1464565\n",
            "\n",
            "Hypothesis:  [[0.02947675]\n",
            " [0.15709852]\n",
            " [0.29876304]\n",
            " [0.7841844 ]\n",
            " [0.9413274 ]\n",
            " [0.9807585 ]] \n",
            "Correct (Y):  [[0.]\n",
            " [0.]\n",
            " [0.]\n",
            " [1.]\n",
            " [1.]\n",
            " [1.]] \n",
            "Accuracy:  tensor(1.)\n"
          ],
          "name": "stdout"
        }
      ]
    }
  ]
}