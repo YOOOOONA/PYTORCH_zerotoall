{
  "nbformat": 4,
  "nbformat_minor": 0,
  "metadata": {
    "colab": {
      "name": "pytorch_zerotoall.ipynb",
      "version": "0.3.2",
      "provenance": [],
      "include_colab_link": true
    },
    "kernelspec": {
      "name": "python3",
      "display_name": "Python 3"
    }
  },
  "cells": [
    {
      "cell_type": "markdown",
      "metadata": {
        "id": "view-in-github",
        "colab_type": "text"
      },
      "source": [
        "<a href=\"https://colab.research.google.com/github/YOOOOONA/PYTORCH_zerotoall/blob/master/pytorch_zerotoall.ipynb\" target=\"_parent\"><img src=\"https://colab.research.google.com/assets/colab-badge.svg\" alt=\"Open In Colab\"/></a>"
      ]
    },
    {
      "metadata": {
        "id": "7i1dD43gu6P5",
        "colab_type": "code",
        "colab": {}
      },
      "cell_type": "code",
      "source": [
        "import numpy as np\n",
        "import matplotlib.pyplot as plt\n",
        "x_data=[1.0,2.0,3.0]\n",
        "y_data=[2.0,4.0,6.0]\n",
        "\n",
        "w=1.0#a random guess: random value,1.0\n",
        "\n",
        "#our model for the forward pass\n",
        "def forward(x):\n",
        "  return x*w\n",
        "\n",
        "#Loss function\n",
        "def loss(x,y):\n",
        "  y_pred=forward(x)\n",
        "  return (y_pred-y)*(y_pred-y)\n",
        "\n",
        "w_list=[]\n",
        "mse_list=[]\n",
        "for w in np.arange(0.0,4.1,0.1):\n",
        "  print(\"w=\",w)\n",
        "  l_sum=0\n",
        "  for x_val, y_val in zip(x_data, y_data):\n",
        "    y_pred_val=forward(x_val)\n",
        "    l=loss(x_val,y_val)\n",
        "    l_sum+=l\n",
        "    print(\"\\t\",x_val,y_val,y_pred_val,l)\n",
        "  print(\"MSE=\",l_sum/3)\n",
        "  w_list.append(w)\n",
        "  mse_list.append(l_sum/3)\n",
        "  \n",
        "plt.plot(w_list,mse_list)\n",
        "plt.ylabel('Loss')\n",
        "plt.xlabel('w')\n",
        "plt.show()\n",
        "\n",
        "def gradient(x,y):\n",
        "  return 2*x*(x*w-y)\n",
        "print(\"predict(before training)\", 4, forward(4))\n",
        "#Training loop\n",
        "for epoch in range(100):\n",
        "  for x_val, y_val in zip(x_data,y_data):\n",
        "    grad=gradient(x_val,y_val)\n",
        "    w=w-0.01*grad\n",
        "    print(\"\\tgrad:\",epoch,\"w=\",w,\"loss=\",l)\n",
        "    \n",
        "#After training\n",
        "print(\"predict(after training)\",\"4\",forward(4))"
      ],
      "execution_count": 0,
      "outputs": []
    },
    {
      "metadata": {
        "id": "y-PLdt9N3B8d",
        "colab_type": "code",
        "colab": {}
      },
      "cell_type": "code",
      "source": [
        "import torch\n",
        "from torch.autograd import Variable\n",
        "\n",
        "x_data=[1.0,2.0,3.0]\n",
        "y_data=[2.0,4.0,6.0]\n",
        "\n",
        "w=Variable(torch.Tensor([1.0]),requires_grad=True)#Any random value"
      ],
      "execution_count": 0,
      "outputs": []
    },
    {
      "metadata": {
        "id": "K_Q8Prfb6baM",
        "colab_type": "code",
        "colab": {}
      },
      "cell_type": "code",
      "source": [
        "# Lab 4 Multi-variable linear regression\n",
        "import torch\n",
        "import torch.nn as nn\n",
        "from torch.autograd import Variable\n",
        "\n",
        "torch.manual_seed(777)   # for reproducibility\n",
        "\n",
        "# X and Y data\n",
        "x_data = [[73., 80., 75.], [93., 88., 93.],\n",
        "          [89., 91., 90.], [96., 98., 100.], [73., 66., 70.]]\n",
        "y_data = [[152.], [185.], [180.], [196.], [142.]]\n",
        "\n",
        "X = Variable(torch.Tensor(x_data))\n",
        "Y = Variable(torch.Tensor(y_data))\n",
        "\n",
        "# Our hypothesis XW+b\n",
        "model = nn.Linear(3, 1, bias=True)\n",
        "\n",
        "# cost criterion\n",
        "criterion = nn.MSELoss()\n",
        "\n",
        "# Minimize\n",
        "optimizer = torch.optim.SGD(model.parameters(), lr=1e-5)\n",
        "\n",
        "# Train the model\n",
        "for step in range(2001):\n",
        "    optimizer.zero_grad()\n",
        "    # Our hypothesis\n",
        "    hypothesis = model(X)\n",
        "    cost = criterion(hypothesis, Y)\n",
        "    cost.backward()\n",
        "    optimizer.step()\n",
        "\n",
        "    if step % 10 == 0:\n",
        "        print(step, \"Cost: \", cost.data.numpy(), \"\\nPrediction:\\n\", hypothesis.data.numpy())\n"
      ],
      "execution_count": 0,
      "outputs": []
    },
    {
      "metadata": {
        "id": "OjeiNBJIVWpI",
        "colab_type": "code",
        "colab": {}
      },
      "cell_type": "code",
      "source": [
        ""
      ],
      "execution_count": 0,
      "outputs": []
    }
  ]
}