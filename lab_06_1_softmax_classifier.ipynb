{
  "nbformat": 4,
  "nbformat_minor": 0,
  "metadata": {
    "colab": {
      "name": "lab-06-1-softmax_classifier.ipynb",
      "version": "0.3.2",
      "provenance": [],
      "include_colab_link": true
    },
    "kernelspec": {
      "name": "python3",
      "display_name": "Python 3"
    }
  },
  "cells": [
    {
      "cell_type": "markdown",
      "metadata": {
        "id": "view-in-github",
        "colab_type": "text"
      },
      "source": [
        "<a href=\"https://colab.research.google.com/github/YOOOOONA/PYTORCH_zerotoall/blob/master/lab_06_1_softmax_classifier.ipynb\" target=\"_parent\"><img src=\"https://colab.research.google.com/assets/colab-badge.svg\" alt=\"Open In Colab\"/></a>"
      ]
    },
    {
      "metadata": {
        "id": "JK2h_oJpyXuz",
        "colab_type": "code",
        "outputId": "616f2a08-a50c-46fd-e6e2-6ceed3519490",
        "colab": {
          "base_uri": "https://localhost:8080/",
          "height": 467
        }
      },
      "cell_type": "code",
      "source": [
        "# Lab 6 Softmax Classifier\n",
        "import torch\n",
        "from torch.autograd import Variable\n",
        "\n",
        "torch.manual_seed(777)  # for reproducibility\n",
        "\n",
        "x_data = [[1, 2, 1, 1], [2, 1, 3, 2], [3, 1, 3, 4], [4, 1, 5, 5],\n",
        "          [1, 7, 5, 5], [1, 2, 5, 6], [1, 6, 6, 6], [1, 7, 7, 7]]\n",
        "y_data = [[0, 0, 1], [0, 0, 1], [0, 0, 1], [0, 1, 0],\n",
        "          [0, 1, 0], [0, 1, 0], [1, 0, 0], [1, 0, 0]]\n",
        "\n",
        "X = Variable(torch.Tensor(x_data))\n",
        "Y = Variable(torch.Tensor(y_data))\n",
        "nb_classes = 3\n",
        "\n",
        "# tf.nn.softmax computes softmax activations\n",
        "# softmax = exp(logits) / reduce_sum(exp(logits), dim)\n",
        "softmax = torch.nn.Softmax()\n",
        "linear = torch.nn.Linear(4, nb_classes, bias=True)\n",
        "model = torch.nn.Sequential(linear, softmax)\n",
        "\n",
        "optimizer = torch.optim.SGD(model.parameters(), lr=0.1)\n",
        "\n",
        "for step in range(2001):\n",
        "    optimizer.zero_grad()\n",
        "    hypothesis = model(X)\n",
        "    # Cross entropy cost/loss\n",
        "    cost = -Y * torch.log(hypothesis)\n",
        "    cost = torch.sum(cost, 1).mean()\n",
        "    cost.backward()\n",
        "    optimizer.step()\n",
        "\n",
        "    if step % 200 == 0:\n",
        "        print(step, cost.data.numpy())\n",
        "\n",
        "# Testing & One-hot encoding\n",
        "print('--------------')\n",
        "a = model(Variable(torch.Tensor([[1, 11, 7, 9]])))\n",
        "print(a.data.numpy(), torch.max(a, 1)[1].data.numpy())\n",
        "\n",
        "print('--------------')\n",
        "b = model(Variable(torch.Tensor([[1, 3, 4, 3]])))\n",
        "print(b.data.numpy(), torch.max(b, 1)[1].data.numpy())\n",
        "\n",
        "print('--------------')\n",
        "c = model(Variable(torch.Tensor([[1, 1, 0, 1]])))\n",
        "print(c.data.numpy(), torch.max(c, 1)[1].data.numpy())\n",
        "\n",
        "print('--------------')\n",
        "all = model(Variable(torch.Tensor([[1, 11, 7, 9], [1, 3, 4, 3], [1, 1, 0, 1]])))\n",
        "print(all.data.numpy(), torch.max(all, 1)[1].data.numpy())\n"
      ],
      "execution_count": 15,
      "outputs": [
        {
          "output_type": "stream",
          "text": [
            "/usr/local/lib/python3.6/dist-packages/torch/nn/modules/container.py:92: UserWarning: Implicit dimension choice for softmax has been deprecated. Change the call to include dim=X as an argument.\n",
            "  input = module(input)\n"
          ],
          "name": "stderr"
        },
        {
          "output_type": "stream",
          "text": [
            "0 2.3687892\n",
            "200 0.5463319\n",
            "400 0.45158803\n",
            "600 0.37642625\n",
            "800 0.30450386\n",
            "1000 0.24127781\n",
            "1200 0.21791306\n",
            "1400 0.198818\n",
            "1600 0.18269485\n",
            "1800 0.16890599\n",
            "2000 0.15698554\n",
            "--------------\n",
            "[[7.658687e-03 9.923316e-01 9.646276e-06]] [1]\n",
            "--------------\n",
            "[[0.82809967 0.1550157  0.01688472]] [0]\n",
            "--------------\n",
            "[[1.3566267e-08 3.5338939e-04 9.9964654e-01]] [2]\n",
            "--------------\n",
            "[[7.6586939e-03 9.9233162e-01 9.6462763e-06]\n",
            " [8.2809949e-01 1.5501580e-01 1.6884727e-02]\n",
            " [1.3566267e-08 3.5338939e-04 9.9964654e-01]] [1 0 2]\n"
          ],
          "name": "stdout"
        }
      ]
    }
  ]
}